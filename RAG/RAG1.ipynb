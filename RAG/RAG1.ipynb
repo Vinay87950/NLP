{
 "cells": [
  {
   "cell_type": "markdown",
   "metadata": {},
   "source": [
    "<img src=\"RAG.png\" style=\"width:800px;height:350px;\" title=\"Confusion Matrix\">\n",
    "\n",
    "source - https://www.supa.so/post/retrieval-augmented-generation-techniques-and-use-cases-2024\n",
    "\n",
    "\n"
   ]
  },
  {
   "cell_type": "code",
   "execution_count": 1,
   "metadata": {},
   "outputs": [],
   "source": [
    "datasets = [\n",
    "\"Essen Sie täglich frisches Obst und Gemüse für wichtige Vitamine.\",\n",
    "\"Trinken Sie ausreichend Wasser, um Ihren Körper zu hydratisieren.\",\n",
    "\"Integrieren Sie Vollkornprodukte in Ihre Mahlzeiten für mehr Ballaststoffe.\",\n",
    "\"Reduzieren Sie den Konsum von verarbeiteten Lebensmitteln und Zucker.\",\n",
    "\"Wählen Sie magere Proteinquellen wie Fisch oder Hülsenfrüchte.\",\n",
    "\"Kochen Sie selbst, um die Kontrolle über Ihre Zutaten zu haben.\",\n",
    "\"Genießen Sie Nüsse und Samen als gesunde Zwischenmahlzeit.\",\n",
    "\"Verwenden Sie gesunde Öle wie Olivenöl zum Kochen und für Salate.\",\n",
    "\"Achten Sie auf ausgewogene Mahlzeiten mit allen wichtigen Nährstoffen.\",\n",
    "\"Probieren Sie neue gesunde Rezepte aus, um Abwechslung in Ihren Speiseplan zu bringen.\"\n",
    "]"
   ]
  },
  {
   "cell_type": "code",
   "execution_count": 2,
   "metadata": {},
   "outputs": [
    {
     "data": {
      "text/plain": [
       "['Essen Sie täglich frisches Obst und Gemüse für wichtige Vitamine.',\n",
       " 'Trinken Sie ausreichend Wasser, um Ihren Körper zu hydratisieren.',\n",
       " 'Integrieren Sie Vollkornprodukte in Ihre Mahlzeiten für mehr Ballaststoffe.',\n",
       " 'Reduzieren Sie den Konsum von verarbeiteten Lebensmitteln und Zucker.',\n",
       " 'Wählen Sie magere Proteinquellen wie Fisch oder Hülsenfrüchte.',\n",
       " 'Kochen Sie selbst, um die Kontrolle über Ihre Zutaten zu haben.',\n",
       " 'Genießen Sie Nüsse und Samen als gesunde Zwischenmahlzeit.',\n",
       " 'Verwenden Sie gesunde Öle wie Olivenöl zum Kochen und für Salate.',\n",
       " 'Achten Sie auf ausgewogene Mahlzeiten mit allen wichtigen Nährstoffen.',\n",
       " 'Probieren Sie neue gesunde Rezepte aus, um Abwechslung in Ihren Speiseplan zu bringen.']"
      ]
     },
     "execution_count": 2,
     "metadata": {},
     "output_type": "execute_result"
    }
   ],
   "source": [
    "datasets"
   ]
  },
  {
   "cell_type": "markdown",
   "metadata": {},
   "source": [
    "#### Konvertierung von Datensätzen in Embeddings"
   ]
  },
  {
   "cell_type": "code",
   "execution_count": 3,
   "metadata": {},
   "outputs": [],
   "source": [
    "# Text documents are converted into numerical vectors \n",
    "\n",
    "# metric used to measure the similarity between two documents or pieces of text- Cosine similiarities \n",
    "mein_frage = \"Ich bin Deutscher und wohne in der Nähe von Nürnberg\""
   ]
  },
  {
   "cell_type": "code",
   "execution_count": 4,
   "metadata": {},
   "outputs": [],
   "source": [
    "dokument = \"Deutschland ist ein Land mit vielen verschiedenen Kulturen\""
   ]
  },
  {
   "cell_type": "code",
   "execution_count": 5,
   "metadata": {},
   "outputs": [],
   "source": [
    "from collections import Counter\n",
    "import math\n",
    "\n",
    "mein_frage_tokens =mein_frage.lower().split(\" \")"
   ]
  },
  {
   "cell_type": "code",
   "execution_count": 6,
   "metadata": {},
   "outputs": [
    {
     "data": {
      "text/plain": [
       "['ich',\n",
       " 'bin',\n",
       " 'deutscher',\n",
       " 'und',\n",
       " 'wohne',\n",
       " 'in',\n",
       " 'der',\n",
       " 'nähe',\n",
       " 'von',\n",
       " 'nürnberg']"
      ]
     },
     "execution_count": 6,
     "metadata": {},
     "output_type": "execute_result"
    }
   ],
   "source": [
    "mein_frage_tokens"
   ]
  },
  {
   "cell_type": "code",
   "execution_count": 7,
   "metadata": {},
   "outputs": [],
   "source": [
    "dokument_tokens =dokument.lower().split(\" \")"
   ]
  },
  {
   "cell_type": "code",
   "execution_count": 8,
   "metadata": {},
   "outputs": [
    {
     "data": {
      "text/plain": [
       "['deutschland',\n",
       " 'ist',\n",
       " 'ein',\n",
       " 'land',\n",
       " 'mit',\n",
       " 'vielen',\n",
       " 'verschiedenen',\n",
       " 'kulturen']"
      ]
     },
     "execution_count": 8,
     "metadata": {},
     "output_type": "execute_result"
    }
   ],
   "source": [
    "dokument_tokens"
   ]
  },
  {
   "cell_type": "code",
   "execution_count": 9,
   "metadata": {},
   "outputs": [],
   "source": [
    "mein_frage_counter =Counter(mein_frage_tokens)"
   ]
  },
  {
   "cell_type": "code",
   "execution_count": 10,
   "metadata": {},
   "outputs": [
    {
     "data": {
      "text/plain": [
       "Counter({'ich': 1,\n",
       "         'bin': 1,\n",
       "         'deutscher': 1,\n",
       "         'und': 1,\n",
       "         'wohne': 1,\n",
       "         'in': 1,\n",
       "         'der': 1,\n",
       "         'nähe': 1,\n",
       "         'von': 1,\n",
       "         'nürnberg': 1})"
      ]
     },
     "execution_count": 10,
     "metadata": {},
     "output_type": "execute_result"
    }
   ],
   "source": [
    "mein_frage_counter"
   ]
  },
  {
   "cell_type": "code",
   "execution_count": 11,
   "metadata": {},
   "outputs": [],
   "source": [
    "dokument_counter =Counter(dokument_tokens)"
   ]
  },
  {
   "cell_type": "code",
   "execution_count": 12,
   "metadata": {},
   "outputs": [
    {
     "data": {
      "text/plain": [
       "Counter({'deutschland': 1,\n",
       "         'ist': 1,\n",
       "         'ein': 1,\n",
       "         'land': 1,\n",
       "         'mit': 1,\n",
       "         'vielen': 1,\n",
       "         'verschiedenen': 1,\n",
       "         'kulturen': 1})"
      ]
     },
     "execution_count": 12,
     "metadata": {},
     "output_type": "execute_result"
    }
   ],
   "source": [
    "dokument_counter"
   ]
  },
  {
   "cell_type": "code",
   "execution_count": null,
   "metadata": {},
   "outputs": [],
   "source": []
  },
  {
   "cell_type": "code",
   "execution_count": 13,
   "metadata": {},
   "outputs": [],
   "source": [
    "mein_liste =[]\n",
    "for tokens in mein_frage_counter.keys() & dokument_counter.keys():\n",
    "    mein_liste.append(mein_frage_counter[tokens]*dokument_counter[tokens])"
   ]
  },
  {
   "cell_type": "code",
   "execution_count": 14,
   "metadata": {},
   "outputs": [
    {
     "data": {
      "text/plain": [
       "[]"
      ]
     },
     "execution_count": 14,
     "metadata": {},
     "output_type": "execute_result"
    }
   ],
   "source": [
    "mein_liste"
   ]
  },
  {
   "cell_type": "code",
   "execution_count": 15,
   "metadata": {},
   "outputs": [],
   "source": [
    "dot_pro = sum(mein_liste)"
   ]
  },
  {
   "cell_type": "code",
   "execution_count": 16,
   "metadata": {},
   "outputs": [],
   "source": [
    "frage_magnitude = math.sqrt(sum(mein_frage_counter[token] ** 2 for token in mein_frage_counter))"
   ]
  },
  {
   "cell_type": "code",
   "execution_count": 17,
   "metadata": {},
   "outputs": [
    {
     "data": {
      "text/plain": [
       "3.1622776601683795"
      ]
     },
     "execution_count": 17,
     "metadata": {},
     "output_type": "execute_result"
    }
   ],
   "source": [
    "frage_magnitude"
   ]
  },
  {
   "cell_type": "code",
   "execution_count": 18,
   "metadata": {},
   "outputs": [],
   "source": [
    "dokument_magnitude = math.sqrt(sum(dokument_counter[token] ** 2 for token in dokument_counter))"
   ]
  },
  {
   "cell_type": "code",
   "execution_count": 19,
   "metadata": {},
   "outputs": [
    {
     "data": {
      "text/plain": [
       "2.8284271247461903"
      ]
     },
     "execution_count": 19,
     "metadata": {},
     "output_type": "execute_result"
    }
   ],
   "source": [
    "dokument_magnitude"
   ]
  },
  {
   "cell_type": "code",
   "execution_count": 20,
   "metadata": {},
   "outputs": [],
   "source": [
    "similarity = (dot_pro)/(frage_magnitude*dokument_magnitude)"
   ]
  },
  {
   "cell_type": "code",
   "execution_count": 21,
   "metadata": {},
   "outputs": [
    {
     "data": {
      "text/plain": [
       "0.0"
      ]
     },
     "execution_count": 21,
     "metadata": {},
     "output_type": "execute_result"
    }
   ],
   "source": [
    "similarity"
   ]
  },
  {
   "cell_type": "code",
   "execution_count": 22,
   "metadata": {},
   "outputs": [],
   "source": [
    "def cosine_similarity(query, document):\n",
    "    # Tokenize and convert to lowercase\n",
    "    mein_frage_tokens =mein_frage.lower().split(\" \")\n",
    "    dokument_tokens =dokument.lower().split(\" \")\n",
    "\n",
    "    # Create Counters for query and document\n",
    "    mein_frage_counter =Counter(mein_frage_tokens)\n",
    "    dokument_counter = Counter(dokument_tokens)\n",
    "\n",
    "    # Calculate dot product\n",
    "    dot_product = sum(mein_frage_counter[token] * dokument_counter[token] for token in mein_frage_counter.keys() & dokument_counter.keys())\n",
    "\n",
    "    # Calculate magnitudes\n",
    "    frage_magnitude = math.sqrt(sum(mein_frage_counter[token] ** 2 for token in mein_frage_counter))\n",
    "    dokument_magnitude = math.sqrt(sum(dokument_counter[token] ** 2 for token in dokument_counter))\n",
    "\n",
    "    # Calculate cosine similarity\n",
    "    similarity = dot_product / (frage_magnitude * dokument_magnitude) if frage_magnitude * dokument_magnitude != 0 else 0\n",
    "\n",
    "    return similarity"
   ]
  },
  {
   "cell_type": "code",
   "execution_count": 23,
   "metadata": {},
   "outputs": [
    {
     "data": {
      "text/plain": [
       "0.0"
      ]
     },
     "execution_count": 23,
     "metadata": {},
     "output_type": "execute_result"
    }
   ],
   "source": [
    "cosine_similarity(mein_frage, dokument)"
   ]
  },
  {
   "cell_type": "code",
   "execution_count": 24,
   "metadata": {},
   "outputs": [],
   "source": [
    "def return_response(frage, corpus):\n",
    "    similarities = []\n",
    "    for doc in corpus:\n",
    "        similarity = cosine_similarity(frage, doc)\n",
    "        similarities.append(similarity)\n",
    "    return datasets[similarities.index(max(similarities))]"
   ]
  },
  {
   "cell_type": "code",
   "execution_count": 25,
   "metadata": {},
   "outputs": [
    {
     "data": {
      "text/plain": [
       "['Essen Sie täglich frisches Obst und Gemüse für wichtige Vitamine.',\n",
       " 'Trinken Sie ausreichend Wasser, um Ihren Körper zu hydratisieren.',\n",
       " 'Integrieren Sie Vollkornprodukte in Ihre Mahlzeiten für mehr Ballaststoffe.',\n",
       " 'Reduzieren Sie den Konsum von verarbeiteten Lebensmitteln und Zucker.',\n",
       " 'Wählen Sie magere Proteinquellen wie Fisch oder Hülsenfrüchte.',\n",
       " 'Kochen Sie selbst, um die Kontrolle über Ihre Zutaten zu haben.',\n",
       " 'Genießen Sie Nüsse und Samen als gesunde Zwischenmahlzeit.',\n",
       " 'Verwenden Sie gesunde Öle wie Olivenöl zum Kochen und für Salate.',\n",
       " 'Achten Sie auf ausgewogene Mahlzeiten mit allen wichtigen Nährstoffen.',\n",
       " 'Probieren Sie neue gesunde Rezepte aus, um Abwechslung in Ihren Speiseplan zu bringen.']"
      ]
     },
     "execution_count": 25,
     "metadata": {},
     "output_type": "execute_result"
    }
   ],
   "source": [
    "datasets"
   ]
  },
  {
   "cell_type": "code",
   "execution_count": 39,
   "metadata": {},
   "outputs": [],
   "source": [
    "new_frage = \"Ein mädchen heißt Sophia und sie ist sehr jünge wie ich, und ich glaub sie mag mich, was soll ich tun? \""
   ]
  },
  {
   "cell_type": "code",
   "execution_count": 27,
   "metadata": {},
   "outputs": [],
   "source": [
    "relevant_document= return_response(new_frage, datasets)"
   ]
  },
  {
   "cell_type": "code",
   "execution_count": 28,
   "metadata": {},
   "outputs": [],
   "source": [
    "## how can we can configure LLm in local system \n",
    "#LLAMA3"
   ]
  },
  {
   "cell_type": "code",
   "execution_count": 29,
   "metadata": {},
   "outputs": [],
   "source": [
    "import requests\n",
    "import json"
   ]
  },
  {
   "cell_type": "code",
   "execution_count": 40,
   "metadata": {},
   "outputs": [],
   "source": [
    "# augement this response by using LLAMA3\n",
    "full_response = []\n",
    "prompt = \"\"\"\n",
    "You are a bot that makes recommendations for different stuffs. You answer in long sentences but do not include extra information. Always write in german\n",
    "This is the recommended activity: {relevant_document}\n",
    "The user input is: {new_frage}\n",
    "Compile a recommendation to the user based on the recommended activity and the user input.\n",
    "\"\"\"\n",
    "\n",
    "url = 'http://localhost:11434/api/generate'\n",
    "\n",
    "\n",
    "data = {\n",
    "    \"model\": \"llama3\",\n",
    "    \"prompt\": prompt.format(new_frage=new_frage, relevant_document=relevant_document)\n",
    "}\n",
    "\n",
    "headers = {'Content-Type': 'application/json'}\n",
    "\n",
    "response = requests.post(url, data=json.dumps(data), headers=headers, stream=True)\n",
    "\n",
    "\n",
    "try:\n",
    "    for line in response.iter_lines():\n",
    "        # filter out keep-alive new lines\n",
    "        if line:\n",
    "            decoded_line = json.loads(line.decode('utf-8'))\n",
    "            # print(decoded_line['response'])  # uncomment to results, token by token\n",
    "            full_response.append(decoded_line['response'])\n",
    "finally:\n",
    "    response.close()\n"
   ]
  },
  {
   "cell_type": "code",
   "execution_count": 41,
   "metadata": {},
   "outputs": [
    {
     "name": "stdout",
     "output_type": "stream",
     "text": [
      "Ich empfehle Ihnen, Sophia bei einem gemeinsamen Abenteuer in die Natur zu holen, zum Beispiel auf einen Picknick-Trip oder einen Spaziergang durch den Wald, um gemeinsam frisches Obst und Gemüse zu genießen und Ihre Beziehungen zu stärken.\n"
     ]
    }
   ],
   "source": [
    "print(''.join(full_response))"
   ]
  }
 ],
 "metadata": {
  "kernelspec": {
   "display_name": "LLM",
   "language": "python",
   "name": "python3"
  },
  "language_info": {
   "codemirror_mode": {
    "name": "ipython",
    "version": 3
   },
   "file_extension": ".py",
   "mimetype": "text/x-python",
   "name": "python",
   "nbconvert_exporter": "python",
   "pygments_lexer": "ipython3",
   "version": "3.11.6"
  }
 },
 "nbformat": 4,
 "nbformat_minor": 2
}
