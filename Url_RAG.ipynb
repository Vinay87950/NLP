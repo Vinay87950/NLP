{
 "cells": [
  {
   "cell_type": "code",
   "execution_count": 1,
   "metadata": {},
   "outputs": [],
   "source": [
    "from langchain_community.document_loaders import UnstructuredURLLoader\n",
    "\n",
    "url = ['https://explodingtopics.com/blog/new-chatgpt-release-date',\n",
    "       'https://medium.com/@l1g3nd/gpt-5-revealed-features-release-details-and-what-it-means-for-the-future-fb098c2a57de#:~:text=Expected%20to%20debut%20in%20early,to%20be%20a%20game%2Dchanger.',\n",
    "       'https://www.pcguide.com/apps/gpt-5-release-date-price-and-features/'\n",
    "       ]\n",
    "\n",
    "loader = UnstructuredURLLoader(urls=url)\n",
    "data = loader.load()"
   ]
  },
  {
   "cell_type": "code",
   "execution_count": 2,
   "metadata": {},
   "outputs": [
    {
     "data": {
      "text/plain": [
       "3"
      ]
     },
     "execution_count": 2,
     "metadata": {},
     "output_type": "execute_result"
    }
   ],
   "source": [
    "len(data)\n"
   ]
  },
  {
   "cell_type": "code",
   "execution_count": 3,
   "metadata": {},
   "outputs": [
    {
     "data": {
      "text/plain": [
       "[Document(metadata={'source': 'https://explodingtopics.com/blog/new-chatgpt-release-date'}, page_content='When Will ChatGPT-5 Be Released (Latest Info)\\n\\nby Josh Howarth November 26, 2024\\n\\nIt’s been a few months since the release of ChatGPT-4o, the most capable version of ChatGPT yet. However, GPT-5 might be just around the corner.\\n\\nOpenAI, the company behind ChatGPT, hasn’t publicly announced a release date for GPT-5.\\n\\nNevertheless, various clues — including interviews with Open AI CEO Sam Altman — indicate that GPT-5 could launch quite soon.\\n\\nIn this article, we’ll analyze these clues to estimate when ChatGPT-5 will be released. We’ll also discuss just how much more powerful the new AI tool will be compared to previous versions.\\n\\nChatGPT-5 Release Date\\n\\nAccording to the latest available information, ChatGPT-5 is set to be released sometime in late 2024 or early 2025.\\n\\nThis estimate is based on public statements by OpenAI, interviews with Sam Altman, and timelines of previous GPT model launches.\\n\\nFor background and context, OpenAI published a blog post in May 2024 confirming that it was in the process of developing a successor to GPT-4.\\n\\nHowever, the existence of GPT-5 had already been all but confirmed months prior.\\n\\nIn September 2023, Sam Altman gave a speech at his former venture capital firm, Y Combinator. He publicly confirmed that GPT-5 and GPT-6 were “in the bag.”\\n\\nA few months later, in November, he told the Financial Times that OpenAI was actively working on GPT-5.\\n\\nAnd in January, Altman gave an interview on Bill Gates’ podcast, in which he confirmed that OpenAI was actively developing GPT-5.\\n\\nDespite these confirmations that ChatGPT-5 is, in fact, being created, OpenAI has yet to announce an official release date.\\n\\nWhy GPT-5 Might Be Released Soon\\n\\nWhile ChatGPT was revolutionary on its launch a few years ago, it’s now just one of several powerful AI tools.\\n\\nWith competitors pouring billions of dollars into AI research, development, and marketing, OpenAI needs to ensure it remains competitive in the AI arms race.\\n\\nThe company has released major updates in short timeframes before.\\n\\nFor example, ChatGPT-4 was released just three months after GPT-3.5. Therefore, it’s not unreasonable to expect GPT-5 to be released just months after GPT-4o.\\n\\nIn fact, OpenAI has left several hints that GPT-5 will be released in 2024.\\n\\nIn March, Sam Altman was interviewed on the Lex Fridman Podcast. He told Lex that OpenAI plans to release an “amazing new model this year.”\\n\\nAltman could have been referring to GPT-4o, which was released a couple of months later. However, it’s also possible that he meant GPT-5.\\n\\nIf Altman’s plans come to fruition, then GPT-5 will be released this year.\\n\\nAdditionally, Business Insider published a report about the release of GPT-5 around the same time as Altman’s interview with Lex Fridman. Sources told Business Insider that GPT-5 would be released during the summer of 2024.\\n\\nAccording to Business Insider, certain enterprise customers — organizations subscribed to ChatGPT Enterprise, the highest tier currently available — have been granted early access to demo versions of GPT-5.\\n\\nHowever, the new model still needs to complete its training. It also needs to be safety tested. Both of these processes could significantly delay the release date.\\n\\nWhy GPT-5 Might Be Released Late\\n\\nSafety testing is likely the largest hurdle facing GPT-5’s release.\\n\\nChatGPT (and AI tools in general) have generated significant controversy for their potential implications for customer privacy and corporate safety.\\n\\nOpenAI has already incorporated several features to improve the safety of ChatGPT. For example, independent cybersecurity analysts conduct ongoing security audits of the tool. They attempt to find vulnerabilities, which are then patched.\\n\\nOpenAI also runs a “bug bounty” program, which rewards people for finding and reporting security flaws in ChatGPT.\\n\\nHowever, many still have safety concerns about AI.\\n\\nIn March 2023, for example, Italy banned ChatGPT, citing how the tool collected personal data and did not verify user age during registration. The following month, Italy recognized that OpenAI had fixed the identified problems and allowed it to resume ChatGPT service in the country.\\n\\nIn May 2023, Sam Altman testified before the Senate Judiciary Committee in favor of government regulation to “mitigate the risks” of AI tools. Altman recognized the widespread fears about the potential dangers of AI, including misuse, and argued in favor of an agency with the power to license AI tools — and “take that license away” to “ensure compliance with safety standards.”\\n\\nIt would be catastrophic for OpenAI to press for stringent safety standards and then fall short itself.\\n\\nTherefore, it’s likely that the safety testing for GPT-5 will be rigorous.\\n\\nAltman said as much to Bloomberg earlier this year. He indicated that OpenAI will “take its time” to ensure that GPT-5 is something it feels “good about and responsible about.”\\n\\nOn May 28, 2024, the same day that OpenAI formally announced the successor to GPT-4, the company also announced the formation of a Safety and Security Committee. The OpenAI Board tasked the committee with “making recommendations to the full board on critical safety and security decisions for OpenAI projects and operations.”\\n\\nThe committee’s first job is to “evaluate and further develop OpenAI’s processes and safeguards over the next 90 days.” That period ends on August 26, 2024. After the 90 days, the committee will share its safety recommendations with the OpenAI board, after which the company will publicly release its new security protocol.\\n\\nGPT-5’s own safety testing could take months.\\n\\nReports indicate that the model is still in the training phase. After it completes its training, it will be extensively tested for security. That involves the model being “red teamed,” a process in which internal and external testers attempt to find flaws and vulnerabilities in the model, which can then be addressed.\\n\\nOn the one hand, this testing might not bring up any major issues. If so, GPT-5 might therefore be released imminently.\\n\\nOn the other hand, there’s really no limit to the number of issues that safety testing could expose. Delays necessitated by patching vulnerabilities and other security issues could push the release of GPT-5 well into 2025.\\n\\nThe uncertainty of this process is likely why OpenAI has so far refused to commit to a release date for GPT-5.\\n\\nChatGPT-5 Features\\n\\nAltman and OpenAI have also been somewhat vague about what exactly ChatGPT-5 will be able to do. That’s probably because the model is still being trained and its exact capabilities are yet to be determined.\\n\\nHowever, Altman has hinted at some of the things GPT-5 will be capable of.\\n\\nWhat is the Capability of GPT-5?\\n\\n“It’s not like this model is going to get a little bit better,” Altman said at the World Governments Summit in Dubai in February. “It’s going to be better across the board.”\\n\\nGenerally, then, GPT-5 should be significantly \"smarter\" than its predecessors.\\n\\nIn practice, that could mean better contextual understanding, which in turn means responses that are more relevant to the question and the overall conversation. It also means fewer hallucinations.\\n\\nSmarter also means improvements to the architecture of neural networks behind ChatGPT. In turn, that means a tool able to more quickly and efficiently process data.\\n\\nSmarter could also mean more extensive training.\\n\\nOpenAI is training GPT-5 on vast amounts of data.\\n\\nMost of that training data is scraped from the internet. But a significant proportion of its training data is proprietary — that is, purchased or otherwise acquired from organizations.\\n\\nThese proprietary datasets could cover specific areas that are relatively absent from the publicly available data taken from the internet. Specialized knowledge areas, specific complex scenarios, under-resourced languages, and long conversations are all examples of things that could be targeted by using appropriate proprietary data.\\n\\nIn theory, this additional training should grant GPT-5 better knowledge of complex or niche topics. It will hopefully also improve ChatGPT’s abilities in languages other than English.\\n\\nGPT-5 is also expected to be more customizable than previous versions.\\n\\nIndividuals and organizations will hopefully be able to better personalize the AI tool to improve how it performs for specific tasks.\\n\\nFinally, smarter also means multimodal. GPT-4 is partially multimodal; it is able to process images. More recent updates have allowed ChatGPT to process audio, too. These updates “had a much stronger response than we expected,” Altman told Bill Gates in January. “We’ll be able to push that much further” in GPT-5.\\n\\nJust exactly how far OpenAI will push multimodality is unclear. According to Altman, it means “speech in, speech out. Images. Eventually video.”\\n\\n“Maybe the most important areas of progress,” Altman told Bill Gates, “will be around reasoning ability.\\n\\nAll this “is a bigger deal than it sounds,” Altman claimed at the World Government’s Summit in Dubai. “What makes these models so magical is that they’re general,” he explained. “If it’s a little bit smarter, it’s a little better at everything.”\\n\\nWill ChatGPT-5 Be Sentient?\\n\\nIt’s almost certain that GPT-5 will be smarter than ChatGTP-4 and ChatGTP-4o. If Altman’s promises come true, it will be better at everything.\\n\\nBut does this mean just another incremental improvement to AI tools, or does it mean the arrival of AGI?\\n\\nAGI, or artificial general intelligence, is the concept of machine intelligence on par with human cognition. A robot with AGI would be able to undertake many tasks with abilities equal to or better than those of a human.\\n\\nA famous scenario used to demonstrate — or perhaps test for — the presence of AGI is called the Coffee Test. It was created by Steve Wozniak, the co-founder of Apple. The Coffee Test goes as follows: Imagine standing in your kitchen, and seeing a robot strolling in and making a cup of coffee. The robot was not programmed to walk into your kitchen, find the coffee maker, locate the correct ingredients, and brew a great cup of coffee. Yet it still decided to do so, and managed it.\\n\\nThe prospect of AGI is both exciting and terrifying. Major tech leaders, including Elon Musk, have warned that it is not far off. In March 2023, thousands of experts signed an open letter calling on AI labs to “immediately pause for at least 6 months the training of AI systems more powerful than GPT-4.”\\n\\nA few months after this letter, OpenAI announced that it would not train a successor to GPT-4. This was part of what prompted a much-publicized battle between the OpenAI Board and Sam Altman later in 2023. Altman, who wanted to keep developing AI tools despite widespread safety concerns, eventually won that power struggle.\\n\\nDespite all this worry about AGI, and predictions that it will arrive soon, GPT-5 is unlikely to make AGI a reality.\\n\\nThe model may be able to act more autonomously than previous models. For example, businesses might be able to build autonomous AI agents that could schedule events, respond to emails, and make purchases without direct human oversight.\\n\\nIn this sense, OpenAI has claimed that GPT-5 could “bridge the gap between human and machine communication” through its improved capabilities and better conversational experience.\\n\\nBut GPT-5 almost certainly won’t be sentient.\\n\\nHow Will ChatGPT-5 Be Different Than Previous Models?\\n\\nNevertheless, GPT-5 will certainly be a great deal more capable than GPT-4. No one has been more clear about this than Sam Altman.\\n\\nIn March 2024, Altman told Lex Fridman that GPT-4 “kind of sucks.” He said that “the delta between 5 and 4 will be the same as between 4 and 3.… It is our job to live a few years in the future and remember that the tools we have now are going to kind of suck looking backward at them.”\\n\\nThe Difference Between GPT-5 and GPT-4\\n\\nWe’ve actually covered many of the differences between GPT-5 and GPT-4 already. Multimodality is perhaps the most flashy difference. Improvements to customization, speed, power, and efficiency will all also be noticeable.\\n\\nOne improvement Altman has highlighted is reliability. AI tools, including the most powerful versions of ChatGPT, still have a tendency to hallucinate. They can get facts incorrect and even invent things seemingly out of thin air, especially when working in languages other than English.\\n\\n“If you ask GPT-4 most questions 10,000 times,” Altman explained to Bill Gates, “one of those 10,000 is probably pretty good, but it doesn’t always know which one — and you’d like to get the best response of 10,000 each time.”\\n\\nAltman implied that GPT-5 will be better able to identify that great response. That is, GPT-5 will be more reliable than GPT-4.\\n\\nAdditionally, GPT-5 will have far more powerful reasoning abilities than GPT-4. Currently, Altman explained to Gates, “GPT-4 can reason in only extremely limited ways.” GPT-5’s improved reasoning ability could make it better able to respond to complex queries and hold longer conversations.\\n\\nIn large part, that’s because GPT-5 is being trained on a much larger dataset than GPT-4.\\n\\nGPT-4 is Already Much Smarter Than GPT-3\\n\\nAs Altman noted, GPT-4 was already a significant improvement to GPT-3.\\n\\nFor starters, GPT-3 is unimodal. It can only process text inputs. Additionally, it was trained on a much lower volume of data than GPT-4. That means lesser reasoning abilities, more difficulties with complex topics, and other similar disadvantages.\\n\\nGPT-3 also has far fewer parameters than GPT-4. Parameters essentially determine how an AI model behaves. The number and quality of the parameters guiding an AI tool’s behavior are therefore vital in determining how capable that AI tool will perform.\\n\\nIn general, more parameters mean a more powerful AI. GPT-3 had roughly 175 billion parameters. While the number of parameters in GPT-4 has not officially been released, estimates have ranged from 1.5 to 1.8 trillion.\\n\\nConclusion\\n\\nUltimately, until OpenAI officially announces a release date for ChatGPT-5, we can only estimate when this new model will be made public.\\n\\nThere are a number of reasons to believe it will come soon — perhaps as soon as late summer 2024.\\n\\nBut training and safety issues could push the release well into 2025.\\n\\nFind Thousands of Trending Topics With Our Platform\\n\\nTry Exploding Topics Pro\\n\\nExplore\\n\\nAdd a Topic\\n\\nNewsletter\\n\\nBlog\\n\\nMethodology\\n\\nCompany\\n\\nHome\\n\\nAbout\\n\\nContact\\n\\nConnect\\n\\nTwitter\\n\\nYouTube\\n\\nInstagram\\n\\nPrivacy Policy\\n\\nTerms of Service\\n\\n© 2024 Exploding Topics is a Trademark of Semrush Inc'),\n",
       " Document(metadata={'source': 'https://medium.com/@l1g3nd/gpt-5-revealed-features-release-details-and-what-it-means-for-the-future-fb098c2a57de#:~:text=Expected%20to%20debut%20in%20early,to%20be%20a%20game%2Dchanger.'}, page_content='Open in app\\n\\nSign in\\n\\nWrite\\n\\nSign in\\n\\nGPT-5 Revealed: Features, Release Details, and What It Means for the Future\\n\\nZiadi Lotfi\\n\\nFollow\\n\\n5 min read\\n\\nDec 6, 2024\\n\\n--\\n\\nPrepare for OpenAI’s next big leap with GPT-5, the highly anticipated addition to their language model series. Expected to debut in early 2025, GPT-5 is set to redefine how we interact with AI. From improving natural language understanding to embracing groundbreaking multimodal features, this model promises to be a game-changer. So, what exactly makes GPT-5 stand out from its predecessors and what should you look forward to?\\n\\nEnhanced Multimodal Abilities: GPT-5 isn’t just about text anymore. Expect it to include multimedia inputs, such as video and reliable voice conversation modes, taking interactions to a whole new level.\\n\\nImproved Logical Reasoning: With a stronger emphasis on accuracy and reasoning, GPT-5 aims to minimize errors and improve the reliability of responses during more complex inquiries.\\n\\nIncreased Contextual Understanding: A larger context window allows GPT-5 to process and comprehend conversations with more depth, providing responses that are relevant and nuanced.\\n\\nAs the excitement builds, keep an eye on OpenAI for further updates and prepare yourself for a more immersive AI experience. Whether you’re a developer curious about the latest advancements or a user eager to explore new possibilities, GPT-5 is certainly something you won’t want to miss.\\n\\nWhen is GPT-5 coming out?\\n\\n--\\n\\n--\\n\\nWritten by Ziadi Lotfi\\n\\n85 Followers\\n\\n2 Following\\n\\nNo responses yet\\n\\nHelp\\n\\nStatus\\n\\nAbout\\n\\nCareers\\n\\nPress\\n\\nBlog\\n\\nPrivacy\\n\\nTerms\\n\\nText to speech\\n\\nTeams'),\n",
       " Document(metadata={'source': 'https://www.pcguide.com/apps/gpt-5-release-date-price-and-features/'}, page_content=\"Skip to content\\n\\nHome > Apps\\n\\nChatGPT-5 release date, price, and latest updates\\n\\nWhat we know about OpenAI's GPT-5.\\n\\nFunmi Somoye\\n\\nReviewed By: Steve Hook\\n\\nLast Updated on August 21, 2024\\n\\nPC Guide is reader-supported. When you buy through links on our site, we may earn an affiliate commission. Read More\\n\\nTable of Contents\\n\\nChatGPT 5 release date set for late 2024\\n\\nChatGPT 5 price expectations\\n\\nBest features of ChatGPT 5\\n\\nFAQs\\n\\nWhat are some of the new features expected with ChatGPT-5?\\n\\nWhen was GPT-4 released?\\n\\nWhen was GPT-3 released?\\n\\nConclusion\\n\\nYou can trust PC Guide: Our team of experts use a combination of independent consumer research, in-depth testing where appropriate - which will be flagged as such, and market analysis when recommending products, software and services. Find out how we test here.\\n\\nOpenAI is set to release its latest ChatGPT-5 this year, expected to arrive in the next couple of months according to the latest sources.\\n\\nOpenAI is set to, once again, revolutionize AI with the upcoming release of ChatGPT-5. The company, which captured global attention through the launch of the original ChatGPT, is promising an even more sophisticated model that could fundamentally change how we interact with technology.\\n\\nWhile specifics about ChatGPT-5 are limited, industry experts anticipate a significant leap forward in AI capabilities. The new model is expected to process and generate information in multiple formats, including text, images, audio, and video. This multimodal approach could unlock a vast array of potential applications, from creative content generation to complex problem-solving.\\n\\nTop 5 Cyber Monday deals\\n\\nThis year's Cyber Monday has officially kickstarted, offering up huge discounts on some of the market's leading tech products. Below, we'll list the best Cyber Monday deals we can find.\\n\\nSamsung Odyssey G9 OLED Curved gaming monitor - WAS $1,599.99 NOW $949.99 Save - $350\\n\\nLG C3 Series 65-Inch Class OLED - WAS $1,499.99 NOW $1,196.99 Save - $70\\n\\nAMD Ryzen 5 7600X 6-Core - WAS $299.99 NOW $186.97 Save - $330\\n\\nBeats Stuydio Buds - WAS $178 NOW $99 Save - $300\\n\\nBose QuietComfort Bluetooth 5.1 Headphones - WAS $349 NOW $199 Save - $150\\n\\nPrices and savings subject to change. Click through to get the current deal prices.\\n\\nOpenAI’s stated goal is to create an AI that feels indistinguishable from a human conversation partner. This ambitious target suggests a dramatic improvement in natural language processing, enabling the model to understand and respond to queries with unprecedented nuance and complexity.\\n\\nIf you’d like to find out some more about OpenAI’s current GPT-4, then check out our comprehensive “ChatGPT vs Google Bard” comparison guide, where we compare each Chatbot’s impressive features and parameters. Additionally, you could take a look at one of our helpful ChatGPT how-to guides, such as our “How to increase the ChatGPT usage limit”, where we help out the AI Chatbot enthusiasts by providing them with helpful tips to avoid the usage gap on ChatGPT.\\n\\nChatGPT 5 release date set for late 2024\\n\\nWhile there’s no official release date, industry experts and company insiders point to late 2024 as a likely timeframe. OpenAI is meticulous in its development process, emphasizing safety and reliability. This careful approach suggests the company is prioritizing quality over speed.\\n\\nGPT-4, OpenAI’s current flagship AI model, is now a mature foundation model. With GPT-4V and GPT-4 Turbo released in Q4 2023, the firm ended last year on a strong note. However, there has been little in the way of official announcements from OpenAI on their next version, despite industry experts assuming a late 2024 arrival.\\n\\nPreviously, at an MIT event in April 2023, OpenAI CEO Sam Altman shared that the company was not training GPT-5 at that time. However, since then, the chief executive has sought new funding from key investor Microsoft to build a new superintelligence. Sharing the stage with Satya Nadella at OpenAI DevDay, the firm’s first developer conference, Altman reminisced “I think we have the best partnership in tech. I’m excited for us to build AGI together.”\\n\\nElon Musk dared to elaborate in an interview with Tucker Carlson, stating that not only would there be a massive expansion of GPT-4-based systems, but that GPT-5 will be out by the end of 2023. Despite Musk’s ties to the company, it was not an official company announcement and was (evidently) not true. But more has come to light since then. In a March 2024 interview on the Lex Fridman podcast, Sam Altman teased an “amazing new model this year” but wouldn’t commit to it being called GPT 5 (or anything else). What’s more, the rumor mill started turning once again following an OpenAI Instagram post showing a series of seemingly cryptic images including the number 22 on a series of thrones. It just so happens that April 22nd is also the date of Sam Altman’s birthday, and the combination of these two factors led to many people speculating that a big release might be on the cards, perhaps even the GPT-5 model. Although it turns out that nothing was launched on the day itself, it now feels plausible that we’ll get something big announced from the company soon.\\n\\nChatGPT 5 price expectations\\n\\nAs for pricing, a subscription model is anticipated, similar to ChatGPT Plus. This structure allows for tiered access, with free basic features and premium options for advanced capabilities. Given the substantial resources required to develop and maintain such a complex AI model, a subscription-based approach is a logical choice.\\n\\nBest features of ChatGPT 5\\n\\nThe core focus of ChatGPT-5 is to enhance reasoning capabilities. The goal is to create an AI that can think critically, solve problems, and provide insights in a way that closely mimics human cognition. This advancement could have far-reaching implications for fields such as research, education, and business.\\n\\nPersonalization is another key area of development. ChatGPT-5 is expected to adapt to individual users, learning their preferences and styles to deliver a more tailored experience. This could lead to more effective communication tools, personalized learning experiences, and even AI companions that feel genuinely connected to their users.\\n\\nReliability and accuracy are paramount. OpenAI is committed to addressing the limitations of previous models, such as hallucinations and inconsistencies. ChatGPT-5 will undergo rigorous testing to ensure it meets the highest standards of quality.\\n\\nFAQs\\n\\nWhat are some of the new features expected with ChatGPT-5?\\n\\nChatGPT-5 is poised to introduce several groundbreaking features. Beyond its text-based capabilities, it will likely be able to process and generate images, audio, and potentially even video. This multimodal approach will enable the AI to perform a wider range of tasks and provide more comprehensive, interactive experiences. Additionally, expect significant advancements in language understanding, allowing for more human-like conversations and responses.\\n\\nWhen was GPT-4 released?\\n\\nThe GPT-4 model was released on March 14th, 2023. It can interpret and answer human-written text queries and has the multimodal capabilities to understand images as inputs. With a reduced inference time, it can process information at a quicker rate than any of the company’s previous AI models.\\n\\nMoreover, it says on the internet that, unlike its previous models, GPT-4 is only free if you are a Bing user. It is now confirmed that you can access GPT-4 if you are paying for ChatGPT’s subscription service, ChatGPT Plus. Microsoft, who invested billions in GPT’s parent company, OpenAI, clarified that the latest GPT is powered with the most enhanced AI technology.\\n\\nWhen was GPT-3 released?\\n\\nGPT-3, the third iteration of OpenAI’s groundbreaking language model, was officially released in June 2020.As one of the most advanced AI language models, it garnered significant attention from the tech world. The release of GPT-3 marked a milestone in the evolution of AI, demonstrating remarkable improvements over its predecessor, GPT-2.\\n\\nConclusion\\n\\nNo one can concretely predict the Chat GPT 5 release date. As such, no one knows when ChatGPT 5 is coming out. However, OpenAI has been continuing progress on its LLMs at a rapid rate. If Elon Musk’s rumors are correct, we might in fact see the announcement of OpenAI GPT-5 a lot sooner than anticipated. If Sam Altman (who has much more hands-on involvement with the AI model) is to be believed, Chat GPT 5 is coming out in 2024 at the earliest. Each wave of GPT updates has seen the boundaries of what artificial intelligence technology can achieve. At least one thing is for sure; Will there be a GPT5? Conclusively, yes.\\n\\nFunmi Somoye\\n\\nFunmi joined PC Guide in November 2022, and was a driving force for the site's ChatGPT coverage. She has a wide knowledge of AI apps, gaming and consumer technology.\\n\\nRelated\\n\\nWhat is GPT-5?\\n\\nBy Steve Hook | Nov 14, 2023\\n\\nWhat is ChatGPT? Everything you need to know about…\\n\\nBy Kevin Pocock | Nov 1, 2023\\n\\nOpenAI files trademark for GPT-5\\n\\nBy Steve Hook | Aug 7, 2023\\n\\nGPT-4 vs GPT-3\\n\\nBy Funmi Somoye | Mar 15, 2023\\n\\nHow to use Snapchat Dreams – step-by-step guide to…\\n\\nBy Nitisha Upadhye | Apr 30, 2024\\n\\nHow to slow down a video on Snapchat –…\\n\\nBy Eve Hancock | Apr 30, 2024\\n\\nHow to get a yellow heart on Snapchat –…\\n\\nBy Nitisha Upadhye | Apr 30, 2024\\n\\nHow to hide and unhide chats on Snapchat\\n\\nBy Eve Hancock | Apr 30, 2024\\n\\nFollow us\\n\\nPC Guide is reader-supported. When you buy through links on our site, we may earn an affiliate commission. Read More\\n\\nFollow us\\n\\nTable of Contents\\n\\nChatGPT 5 release date set for late 2024\\n\\nChatGPT 5 price expectations\\n\\nBest features of ChatGPT 5\\n\\nFAQs\\n\\nWhat are some of the new features expected with ChatGPT-5?\\n\\nWhen was GPT-4 released?\\n\\nWhen was GPT-3 released?\\n\\nConclusion\\n\\nRelated\\n\\nWhat is GPT-5?\\n\\nBy Steve Hook | Nov 14, 2023\\n\\nWhat is ChatGPT? Everything you need to know about…\\n\\nBy Kevin Pocock | Nov 1, 2023\\n\\nOpenAI files trademark for GPT-5\\n\\nBy Steve Hook | Aug 7, 2023\\n\\nGPT-4 vs GPT-3\\n\\nBy Funmi Somoye | Mar 15, 2023\\n\\nHow to use Snapchat Dreams – step-by-step guide to…\\n\\nBy Nitisha Upadhye | Apr 30, 2024\\n\\nHow to slow down a video on Snapchat –…\\n\\nBy Eve Hancock | Apr 30, 2024\\n\\nHow to get a yellow heart on Snapchat –…\\n\\nBy Nitisha Upadhye | Apr 30, 2024\\n\\nHow to hide and unhide chats on Snapchat\\n\\nBy Eve Hancock | Apr 30, 2024\\n\\nPCguide.com is part of the BGFG family of websites. Our mission is to provide you with great editorial and essential information to make your PC an integral part of your life. You can also follow PCguide.com on our social channels and interact with the team there.\\n\\nTikTok\\n\\nTwitter\\n\\nYoutube\\n\\nInstagram\\n\\nFacebook\\n\\nFeed\\n\\nComputing\\n\\nGaming PC\\n\\nDesktop Computer\\n\\nTablet PC\\n\\nLaptop\\n\\nNetwork & Storage\\n\\nHDD\\n\\nSSD\\n\\nRouter\\n\\nModem\\n\\nWiFi\\n\\nNAS\\n\\nGadgets\\n\\nRaspberry Pi\\n\\n3D Printer\\n\\nComponents\\n\\nGPU\\n\\nCPU\\n\\nMotherboard\\n\\nRAM\\n\\nPC Case\\n\\nCooling\\n\\nPower Supplies (PSU)\\n\\nSoftware\\n\\nSoftware Downloads\\n\\nInternet Safety\\n\\nSystem Requirements\\n\\nPeripherals\\n\\nComputer Chair\\n\\nMonitor\\n\\nKeyboard\\n\\nMouse\\n\\nComputer Microphone\\n\\nComputer Desk\\n\\nHeadset\\n\\nVR\\n\\nWindows 11\\n\\nWindows 11 Hub\\n\\nGuide\\n\\nHow To\\n\\nWindows 11 System Requirements\\n\\nDeals\\n\\nDeals Hub\\n\\nBlack Friday Deals\\n\\nCyber Monday Deals\\n\\nNews\\n\\nReviews\\n\\nHow To\\n\\nTips\\n\\nCompany\\n\\nAbout\\n\\nContact Us\\n\\nHow we test products\\n\\nEarnings Disclaimer\\n\\nPrivacy Policy\\n\\nSitemap\\n\\n© 2024 PC Guide. All rights reserved.\\n\\nVideoGamer\\n\\nN4G\\n\\nPC Builder\\n\\nPart of\\n\\n© 2024 PC Guide • Built with GeneratePress\")]"
      ]
     },
     "execution_count": 3,
     "metadata": {},
     "output_type": "execute_result"
    }
   ],
   "source": [
    "data"
   ]
  },
  {
   "cell_type": "markdown",
   "metadata": {},
   "source": [
    "so now to divide our data into smaller , why do we need to divide our data into chunks ?\n",
    "- helps maintain the context of the text\n",
    "- reducing computational and improving overall performance\n",
    "- allows for more efficient indexing and retrieval of relevant information\n",
    "- better overall summaries\n",
    "\n",
    "and why it is useful for doing chunking ? because when user will ask questions, it will only give that related answer by searching around"
   ]
  },
  {
   "cell_type": "code",
   "execution_count": 4,
   "metadata": {},
   "outputs": [
    {
     "name": "stdout",
     "output_type": "stream",
     "text": [
      "Total number of documents: 26\n"
     ]
    }
   ],
   "source": [
    "from langchain_text_splitters import RecursiveCharacterTextSplitter\n",
    "\n",
    "#  tiktoken library for more precise token counting when splitting text\n",
    "text_splitter = RecursiveCharacterTextSplitter.from_tiktoken_encoder(\n",
    "    chunk_size=300,  # This will now be in tokens, not characters\n",
    "    chunk_overlap=0\n",
    ")\n",
    "docs = text_splitter.split_documents(data)\n",
    "\n",
    "# total number of splitted documents \n",
    "print(\"Total number of documents:\", len(docs))\n"
   ]
  },
  {
   "cell_type": "code",
   "execution_count": 5,
   "metadata": {},
   "outputs": [
    {
     "data": {
      "text/plain": [
       "Document(metadata={'source': 'https://explodingtopics.com/blog/new-chatgpt-release-date'}, page_content='On the other hand, there’s really no limit to the number of issues that safety testing could expose. Delays necessitated by patching vulnerabilities and other security issues could push the release of GPT-5 well into 2025.\\n\\nThe uncertainty of this process is likely why OpenAI has so far refused to commit to a release date for GPT-5.\\n\\nChatGPT-5 Features\\n\\nAltman and OpenAI have also been somewhat vague about what exactly ChatGPT-5 will be able to do. That’s probably because the model is still being trained and its exact capabilities are yet to be determined.\\n\\nHowever, Altman has hinted at some of the things GPT-5 will be capable of.\\n\\nWhat is the Capability of GPT-5?\\n\\n“It’s not like this model is going to get a little bit better,” Altman said at the World Governments Summit in Dubai in February. “It’s going to be better across the board.”\\n\\nGenerally, then, GPT-5 should be significantly \"smarter\" than its predecessors.\\n\\nIn practice, that could mean better contextual understanding, which in turn means responses that are more relevant to the question and the overall conversation. It also means fewer hallucinations.')"
      ]
     },
     "execution_count": 5,
     "metadata": {},
     "output_type": "execute_result"
    }
   ],
   "source": [
    "docs[5]\n"
   ]
  },
  {
   "cell_type": "markdown",
   "metadata": {},
   "source": [
    "Jetzt fange mit Embeddings an. warum brauchen wir das ?\n",
    "- because we want to convert our text data into numerical representation "
   ]
  },
  {
   "cell_type": "code",
   "execution_count": 6,
   "metadata": {},
   "outputs": [
    {
     "name": "stderr",
     "output_type": "stream",
     "text": [
      "/home/6082/.RAG/lib/python3.11/site-packages/tqdm/auto.py:21: TqdmWarning: IProgress not found. Please update jupyter and ipywidgets. See https://ipywidgets.readthedocs.io/en/stable/user_install.html\n",
      "  from .autonotebook import tqdm as notebook_tqdm\n"
     ]
    },
    {
     "data": {
      "text/plain": [
       "array([-0.01166673,  0.05221786,  0.06761146,  0.01808612, -0.04677952],\n",
       "      dtype=float32)"
      ]
     },
     "execution_count": 6,
     "metadata": {},
     "output_type": "execute_result"
    }
   ],
   "source": [
    "# # embedding models \n",
    "from sentence_transformers import SentenceTransformer\n",
    "import tqdm\n",
    "\n",
    "model = SentenceTransformer(\"sentence-transformers/all-MiniLM-L6-v2\", device=\"cpu\")\n",
    "docs_text = [doc.page_content for doc in docs]  # Extract text\n",
    "embeddings = model.encode(docs_text)\n",
    "\n",
    "\n",
    "## only to check whether the above is working on not \n",
    "vector = model.encode(\"Hello, Servus\") # einfach beispiel \n",
    "vector[:5]"
   ]
  },
  {
   "cell_type": "code",
   "execution_count": 7,
   "metadata": {},
   "outputs": [
    {
     "name": "stdout",
     "output_type": "stream",
     "text": [
      "Number of embeddings added to the index: 26\n"
     ]
    }
   ],
   "source": [
    "import faiss\n",
    "import numpy as np\n",
    "\n",
    "embeddings_array = np.array(embeddings, dtype=\"float32\")\n",
    "\n",
    "# Step 1: Initialize FAISS index\n",
    "embedding_dim = embeddings_array.shape[1]  # Dimension of embeddings\n",
    "index = faiss.IndexFlatL2(embedding_dim)   # L2 (Euclidean) distance index\n",
    "\n",
    "# Step 2: Add embeddings to the index\n",
    "index.add(embeddings_array)\n",
    "print(f\"Number of embeddings added to the index: {index.ntotal}\")"
   ]
  },
  {
   "cell_type": "code",
   "execution_count": 8,
   "metadata": {},
   "outputs": [
    {
     "name": "stdout",
     "output_type": "stream",
     "text": [
      "Retrieved Documents:\n",
      "GPT-4, OpenAI’s current flagship AI model, is now a mature foundation model. With GPT-4V and GPT-4 Turbo released in Q4 2023, the firm ended last year on a strong note. However, there has been little in the way of official announcements from OpenAI on their next version, despite industry experts assuming a late 2024 arrival.\n",
      "\n",
      "Previously, at an MIT event in April 2023, OpenAI CEO Sam Altman shared that the company was not training GPT-5 at that time. However, since then, the chief executive has sought new funding from key investor Microsoft to build a new superintelligence. Sharing the stage with Satya Nadella at OpenAI DevDay, the firm’s first developer conference, Altman reminisced “I think we have the best partnership in tech. I’m excited for us to build AGI together.”\n",
      "But does this mean just another incremental improvement to AI tools, or does it mean the arrival of AGI?\n",
      "\n",
      "AGI, or artificial general intelligence, is the concept of machine intelligence on par with human cognition. A robot with AGI would be able to undertake many tasks with abilities equal to or better than those of a human.\n",
      "\n",
      "A famous scenario used to demonstrate — or perhaps test for — the presence of AGI is called the Coffee Test. It was created by Steve Wozniak, the co-founder of Apple. The Coffee Test goes as follows: Imagine standing in your kitchen, and seeing a robot strolling in and making a cup of coffee. The robot was not programmed to walk into your kitchen, find the coffee maker, locate the correct ingredients, and brew a great cup of coffee. Yet it still decided to do so, and managed it.\n",
      "\n",
      "The prospect of AGI is both exciting and terrifying. Major tech leaders, including Elon Musk, have warned that it is not far off. In March 2023, thousands of experts signed an open letter calling on AI labs to “immediately pause for at least 6 months the training of AI systems more powerful than GPT-4.”\n",
      "Finally, smarter also means multimodal. GPT-4 is partially multimodal; it is able to process images. More recent updates have allowed ChatGPT to process audio, too. These updates “had a much stronger response than we expected,” Altman told Bill Gates in January. “We’ll be able to push that much further” in GPT-5.\n",
      "\n",
      "Just exactly how far OpenAI will push multimodality is unclear. According to Altman, it means “speech in, speech out. Images. Eventually video.”\n",
      "\n",
      "“Maybe the most important areas of progress,” Altman told Bill Gates, “will be around reasoning ability.\n",
      "\n",
      "All this “is a bigger deal than it sounds,” Altman claimed at the World Government’s Summit in Dubai. “What makes these models so magical is that they’re general,” he explained. “If it’s a little bit smarter, it’s a little better at everything.”\n",
      "\n",
      "Will ChatGPT-5 Be Sentient?\n",
      "\n",
      "It’s almost certain that GPT-5 will be smarter than ChatGTP-4 and ChatGTP-4o. If Altman’s promises come true, it will be better at everything.\n"
     ]
    }
   ],
   "source": [
    "# Step 1: Generate embedding for the query\n",
    "query_vector = model.encode(\"Nürnberg\").astype(\"float32\")\n",
    "\n",
    "# Step 2: Perform the search\n",
    "k = 3 # Number of nearest neighbors to retrieve\n",
    "distances, indices = index.search(np.array([query_vector]), k)\n",
    "\n",
    "# Step 3: Retrieve corresponding documents\n",
    "retrieved_docs = [docs_text[idx] for idx in indices[0]]\n",
    "\n",
    "print(\"Retrieved Documents:\")\n",
    "for doc in retrieved_docs:\n",
    "    print(doc)\n"
   ]
  },
  {
   "cell_type": "code",
   "execution_count": 9,
   "metadata": {},
   "outputs": [],
   "source": [
    "from langchain_huggingface import HuggingFacePipeline\n",
    "from langchain_core.prompts import PromptTemplate\n",
    "from transformers import pipeline, AutoModelForCausalLM, AutoTokenizer\n",
    "from langchain_core.output_parsers import StrOutputParser\n",
    "import torch "
   ]
  },
  {
   "cell_type": "code",
   "execution_count": 10,
   "metadata": {},
   "outputs": [],
   "source": [
    "model_id = \"distilbert/distilgpt2\""
   ]
  },
  {
   "cell_type": "code",
   "execution_count": 11,
   "metadata": {},
   "outputs": [
    {
     "name": "stderr",
     "output_type": "stream",
     "text": [
      "Device set to use cpu\n"
     ]
    }
   ],
   "source": [
    "text_generation_pipeline = pipeline(\n",
    "    \"text-generation\",model=model_id,torch_dtype=torch.float32 , max_new_tokens=200, device=\"cpu\")"
   ]
  },
  {
   "cell_type": "code",
   "execution_count": 12,
   "metadata": {},
   "outputs": [],
   "source": [
    "llm = HuggingFacePipeline(pipeline=text_generation_pipeline)"
   ]
  },
  {
   "cell_type": "code",
   "execution_count": 13,
   "metadata": {},
   "outputs": [],
   "source": [
    "prompt_template = \"\"\"\n",
    "<|system|>\n",
    "Use the following context to answer the question.\n",
    "\n",
    "Context: \n",
    "{context}\n",
    "\n",
    "Question: \n",
    "{question}\n",
    "\n",
    "Answer:\n",
    "\n",
    "\"\"\""
   ]
  },
  {
   "cell_type": "code",
   "execution_count": 14,
   "metadata": {},
   "outputs": [],
   "source": [
    "prompt = PromptTemplate(\n",
    "    input_variables=[\"context\", \"question\"],\n",
    "    template= prompt_template\n",
    ")"
   ]
  },
  {
   "cell_type": "code",
   "execution_count": 15,
   "metadata": {},
   "outputs": [
    {
     "name": "stderr",
     "output_type": "stream",
     "text": [
      "/tmp/ipykernel_938260/3322413079.py:3: LangChainDeprecationWarning: The class `LLMChain` was deprecated in LangChain 0.1.17 and will be removed in 1.0. Use :meth:`~RunnableSequence, e.g., `prompt | llm`` instead.\n",
      "  llm_chain = LLMChain(prompt=prompt, llm=llm, output_parser=StrOutputParser())\n"
     ]
    }
   ],
   "source": [
    "from langchain.chains import LLMChain\n",
    "\n",
    "llm_chain = LLMChain(prompt=prompt, llm=llm, output_parser=StrOutputParser())\n",
    "\n",
    "# so how does this llm chain works \n",
    "# '''\n",
    "# first user will ask some question and then that question goes to the llm model so that It will search the answer for and then we will receive a ouput in more readable form with the help of StrOutputParser\n",
    "# '''\n"
   ]
  },
  {
   "cell_type": "code",
   "execution_count": 16,
   "metadata": {},
   "outputs": [],
   "source": [
    "context = \"\\n\".join(retrieved_docs)"
   ]
  },
  {
   "cell_type": "code",
   "execution_count": 17,
   "metadata": {},
   "outputs": [],
   "source": [
    "# Step 1: Generate embedding for the query\n",
    "query = \"When will gpt5 release in germany?\"\n",
    "query_vector = model.encode(query).astype(\"float32\")"
   ]
  },
  {
   "cell_type": "code",
   "execution_count": 18,
   "metadata": {},
   "outputs": [],
   "source": [
    "question = query\n",
    "llm_input = {\"context\": context, \"question\": question}"
   ]
  },
  {
   "cell_type": "code",
   "execution_count": 19,
   "metadata": {},
   "outputs": [
    {
     "name": "stderr",
     "output_type": "stream",
     "text": [
      "/tmp/ipykernel_938260/2927182111.py:1: LangChainDeprecationWarning: The method `Chain.run` was deprecated in langchain 0.1.0 and will be removed in 1.0. Use :meth:`~invoke` instead.\n",
      "  response = llm_chain.run(llm_input)\n",
      "Setting `pad_token_id` to `eos_token_id`:50256 for open-end generation.\n"
     ]
    }
   ],
   "source": [
    "response = llm_chain.run(llm_input)\n"
   ]
  },
  {
   "cell_type": "code",
   "execution_count": 20,
   "metadata": {},
   "outputs": [
    {
     "name": "stdout",
     "output_type": "stream",
     "text": [
      "\n",
      "<|system|>\n",
      "Use the following context to answer the question.\n",
      "\n",
      "Context: \n",
      "GPT-4, OpenAI’s current flagship AI model, is now a mature foundation model. With GPT-4V and GPT-4 Turbo released in Q4 2023, the firm ended last year on a strong note. However, there has been little in the way of official announcements from OpenAI on their next version, despite industry experts assuming a late 2024 arrival.\n",
      "\n",
      "Previously, at an MIT event in April 2023, OpenAI CEO Sam Altman shared that the company was not training GPT-5 at that time. However, since then, the chief executive has sought new funding from key investor Microsoft to build a new superintelligence. Sharing the stage with Satya Nadella at OpenAI DevDay, the firm’s first developer conference, Altman reminisced “I think we have the best partnership in tech. I’m excited for us to build AGI together.”\n",
      "But does this mean just another incremental improvement to AI tools, or does it mean the arrival of AGI?\n",
      "\n",
      "AGI, or artificial general intelligence, is the concept of machine intelligence on par with human cognition. A robot with AGI would be able to undertake many tasks with abilities equal to or better than those of a human.\n",
      "\n",
      "A famous scenario used to demonstrate — or perhaps test for — the presence of AGI is called the Coffee Test. It was created by Steve Wozniak, the co-founder of Apple. The Coffee Test goes as follows: Imagine standing in your kitchen, and seeing a robot strolling in and making a cup of coffee. The robot was not programmed to walk into your kitchen, find the coffee maker, locate the correct ingredients, and brew a great cup of coffee. Yet it still decided to do so, and managed it.\n",
      "\n",
      "The prospect of AGI is both exciting and terrifying. Major tech leaders, including Elon Musk, have warned that it is not far off. In March 2023, thousands of experts signed an open letter calling on AI labs to “immediately pause for at least 6 months the training of AI systems more powerful than GPT-4.”\n",
      "Finally, smarter also means multimodal. GPT-4 is partially multimodal; it is able to process images. More recent updates have allowed ChatGPT to process audio, too. These updates “had a much stronger response than we expected,” Altman told Bill Gates in January. “We’ll be able to push that much further” in GPT-5.\n",
      "\n",
      "Just exactly how far OpenAI will push multimodality is unclear. According to Altman, it means “speech in, speech out. Images. Eventually video.”\n",
      "\n",
      "“Maybe the most important areas of progress,” Altman told Bill Gates, “will be around reasoning ability.\n",
      "\n",
      "All this “is a bigger deal than it sounds,” Altman claimed at the World Government’s Summit in Dubai. “What makes these models so magical is that they’re general,” he explained. “If it’s a little bit smarter, it’s a little better at everything.”\n",
      "\n",
      "Will ChatGPT-5 Be Sentient?\n",
      "\n",
      "It’s almost certain that GPT-5 will be smarter than ChatGTP-4 and ChatGTP-4o. If Altman’s promises come true, it will be better at everything.\n",
      "\n",
      "Question: \n",
      "When will gpt5 release in germany?\n",
      "\n",
      "Answer:\n",
      "\n",
      "During this period of time, GPT-5 will be available in the future for GPT-5, although there is a lack of that planned. According to the report, GPT-5 will be able to “learn  the difference between what your expectations are on and what’ your expectations are. “But to learn what your expectations are‪, GPT-5 will need a bit more help from the germany‬s.\n",
      "“What is important is it’s easier,” the data is “more accurate,” because if the GPT-5 is done correctly, it will be able to use better data than the AI (and even then its capabilities might not be improved at the same time).\n",
      "For starters, if you don†t have a GPT-5, it’s highly unlikely that you will be able to do very well enough in GPT-5. For example,\n"
     ]
    }
   ],
   "source": [
    "print(response)"
   ]
  },
  {
   "cell_type": "code",
   "execution_count": 21,
   "metadata": {},
   "outputs": [
    {
     "name": "stdout",
     "output_type": "stream",
     "text": [
      "Antwort <|system|>\n",
      "Use the following context to answer the question.\n",
      "\n",
      "Context: \n",
      "GPT-4, OpenAI’s current flagship AI model, is now a mature foundation model. With GPT-4V and GPT-4 Turbo released in Q4 2023, the firm ended last year on a strong note. However, there has been little in the way of official announcements from OpenAI on their next version, despite industry experts assuming a late 2024 arrival.\n",
      "\n",
      "Previously, at an MIT event in April 2023, OpenAI CEO Sam Altman shared that the company was not training GPT-5 at that time. However, since then, the chief executive has sought new funding from key investor Microsoft to build a new superintelligence. Sharing the stage with Satya Nadella at OpenAI DevDay, the firm’s first developer conference, Altman reminisced “I think we have the best partnership in tech. I’m excited for us to build AGI together.”\n",
      "But does this mean just another incremental improvement to AI tools, or does it mean the arrival of AGI?\n",
      "\n",
      "AGI, or artificial general intelligence, is the concept of machine intelligence on par with human cognition. A robot with AGI would be able to undertake many tasks with abilities equal to or better than those of a human.\n",
      "\n",
      "A famous scenario used to demonstrate — or perhaps test for — the presence of AGI is called the Coffee Test. It was created by Steve Wozniak, the co-founder of Apple. The Coffee Test goes as follows: Imagine standing in your kitchen, and seeing a robot strolling in and making a cup of coffee. The robot was not programmed to walk into your kitchen, find the coffee maker, locate the correct ingredients, and brew a great cup of coffee. Yet it still decided to do so, and managed it.\n",
      "\n",
      "The prospect of AGI is both exciting and terrifying. Major tech leaders, including Elon Musk, have warned that it is not far off. In March 2023, thousands of experts signed an open letter calling on AI labs to “immediately pause for at least 6 months the training of AI systems more powerful than GPT-4.”\n",
      "Finally, smarter also means multimodal. GPT-4 is partially multimodal; it is able to process images. More recent updates have allowed ChatGPT to process audio, too. These updates “had a much stronger response than we expected,” Altman told Bill Gates in January. “We’ll be able to push that much further” in GPT-5.\n",
      "\n",
      "Just exactly how far OpenAI will push multimodality is unclear. According to Altman, it means “speech in, speech out. Images. Eventually video.”\n",
      "\n",
      "“Maybe the most important areas of progress,” Altman told Bill Gates, “will be around reasoning ability.\n",
      "\n",
      "All this “is a bigger deal than it sounds,” Altman claimed at the World Government’s Summit in Dubai. “What makes these models so magical is that they’re general,” he explained. “If it’s a little bit smarter, it’s a little better at everything.”\n",
      "\n",
      "Will ChatGPT-5 Be Sentient?\n",
      "\n",
      "It’s almost certain that GPT-5 will be smarter than ChatGTP-4 and ChatGTP-4o. If Altman’s promises come true, it will be better at everything.\n",
      "\n",
      "Question: \n",
      "When will gpt5 release in germany?\n",
      "\n",
      "Answer:\n",
      "\n",
      "During this period of time, GPT-5 will be available in the future for GPT-5, although there is a lack of that planned. According to the report, GPT-5 will be able to “learn  the difference between what your expectations are on and what’ your expectations are. “But to learn what your expectations are‪, GPT-5 will need a bit more help from the germany‬s.\n",
      "“What is important is it’s easier,” the data is “more accurate,” because if the GPT-5 is done correctly, it will be able to use better data than the AI (and even then its capabilities might not be improved at the same time).\n",
      "For starters, if you don†t have a GPT-5, it’s highly unlikely that you will be able to do very well enough in GPT-5. For example,\n"
     ]
    }
   ],
   "source": [
    "response = response.replace(\"</s>\", \"\").strip()\n",
    "print(\"Antwort\", response)"
   ]
  },
  {
   "cell_type": "markdown",
   "metadata": {},
   "source": [
    "#### Another model just to compare "
   ]
  },
  {
   "cell_type": "code",
   "execution_count": null,
   "metadata": {},
   "outputs": [],
   "source": []
  },
  {
   "cell_type": "code",
   "execution_count": 138,
   "metadata": {},
   "outputs": [],
   "source": []
  },
  {
   "cell_type": "code",
   "execution_count": 139,
   "metadata": {},
   "outputs": [],
   "source": []
  },
  {
   "cell_type": "code",
   "execution_count": 140,
   "metadata": {},
   "outputs": [],
   "source": []
  },
  {
   "cell_type": "code",
   "execution_count": 141,
   "metadata": {},
   "outputs": [],
   "source": [
    "\n"
   ]
  },
  {
   "cell_type": "code",
   "execution_count": 142,
   "metadata": {},
   "outputs": [],
   "source": []
  },
  {
   "cell_type": "code",
   "execution_count": null,
   "metadata": {},
   "outputs": [],
   "source": [
    "\n"
   ]
  },
  {
   "cell_type": "code",
   "execution_count": null,
   "metadata": {},
   "outputs": [],
   "source": []
  }
 ],
 "metadata": {
  "kernelspec": {
   "display_name": ".RAG",
   "language": "python",
   "name": "python3"
  },
  "language_info": {
   "codemirror_mode": {
    "name": "ipython",
    "version": 3
   },
   "file_extension": ".py",
   "mimetype": "text/x-python",
   "name": "python",
   "nbconvert_exporter": "python",
   "pygments_lexer": "ipython3",
   "version": "3.11.9"
  }
 },
 "nbformat": 4,
 "nbformat_minor": 2
}
